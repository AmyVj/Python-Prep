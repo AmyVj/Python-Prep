{
 "cells": [
  {
   "attachments": {},
   "cell_type": "markdown",
   "metadata": {},
   "source": [
    "## Estructuras de Datos"
   ]
  },
  {
   "cell_type": "markdown",
   "metadata": {},
   "source": [
    "LISTAS: son todas aquellas que se usan en corchetes puede contener cualquier tipo de dato y ejecutarse ejemplos:"
   ]
  },
  {
   "cell_type": "code",
   "execution_count": 2,
   "metadata": {},
   "outputs": [
    {
     "name": "stdout",
     "output_type": "stream",
     "text": [
      "['rojo', 'amarillo', 'azul']\n",
      "[22, 23, 24, 25]\n",
      "[]\n"
     ]
    }
   ],
   "source": [
    "colores=[\"rojo\", \"amarillo\", \"azul\"]\n",
    "numeros=[22,23,24,25]\n",
    "listas_vacias=[]\n",
    "\n",
    "print(colores)\n",
    "print(numeros)\n",
    "print(listas_vacias)\n",
    "    "
   ]
  },
  {
   "cell_type": "code",
   "execution_count": 4,
   "metadata": {},
   "outputs": [
    {
     "name": "stdout",
     "output_type": "stream",
     "text": [
      "<class 'list'>\n",
      "<class 'list'>\n",
      "<class 'list'>\n"
     ]
    }
   ],
   "source": [
    "print(type(colores))\n",
    "print(type(numeros))\n",
    "print(type(listas_vacias))"
   ]
  },
  {
   "cell_type": "code",
   "execution_count": 5,
   "metadata": {},
   "outputs": [
    {
     "name": "stdout",
     "output_type": "stream",
     "text": [
      "azul\n"
     ]
    }
   ],
   "source": [
    "mi_lista=[\"rojo\", \"amarillo\", \"azul\",\"morado\"]\n",
    "print(mi_lista[2])"
   ]
  },
  {
   "cell_type": "code",
   "execution_count": 6,
   "metadata": {},
   "outputs": [
    {
     "name": "stdout",
     "output_type": "stream",
     "text": [
      "['rojo', 'amarillo']\n"
     ]
    }
   ],
   "source": [
    "print(mi_lista[0:2])"
   ]
  },
  {
   "cell_type": "code",
   "execution_count": 7,
   "metadata": {},
   "outputs": [
    {
     "name": "stdout",
     "output_type": "stream",
     "text": [
      "['rojo', 'amarillo']\n"
     ]
    }
   ],
   "source": [
    "print(mi_lista[:2])"
   ]
  },
  {
   "cell_type": "code",
   "execution_count": 8,
   "metadata": {},
   "outputs": [
    {
     "name": "stdout",
     "output_type": "stream",
     "text": [
      "['rojo', 'amarillo', 'azul', 'morado']\n"
     ]
    }
   ],
   "source": [
    "print(mi_lista[0:])"
   ]
  },
  {
   "cell_type": "code",
   "execution_count": 9,
   "metadata": {},
   "outputs": [
    {
     "name": "stdout",
     "output_type": "stream",
     "text": [
      "['rojo', 'amarillo', 'azul', 'negro', 'morado', 'blanco']\n"
     ]
    }
   ],
   "source": [
    "mi_lista.append(\"blanco\") #funcion agregar elemento al final y nuevo\n",
    "mi_lista.insert(3,\"negro\")# funcion para ubicar el nuevo elemento\n",
    "\n",
    "print(mi_lista)"
   ]
  },
  {
   "cell_type": "code",
   "execution_count": 12,
   "metadata": {},
   "outputs": [
    {
     "name": "stdout",
     "output_type": "stream",
     "text": [
      "['rojo', 'amarillo', 'azul', 'negro', 'morado', 'blanco', 'rosa', 'marron', 'rosa', 'marron', 'rosa', 'marron']\n"
     ]
    }
   ],
   "source": [
    "mi_lista.extend([\"rosa\", \"marron\"]) #funcion concatenado\n",
    "print(mi_lista)"
   ]
  },
  {
   "cell_type": "code",
   "execution_count": 13,
   "metadata": {},
   "outputs": [
    {
     "data": {
      "text/plain": [
       "4"
      ]
     },
     "execution_count": 13,
     "metadata": {},
     "output_type": "execute_result"
    }
   ],
   "source": [
    "mi_lista.index (\"morado\") #validar en que posicion esta el elemento"
   ]
  },
  {
   "cell_type": "code",
   "execution_count": 16,
   "metadata": {},
   "outputs": [
    {
     "name": "stdout",
     "output_type": "stream",
     "text": [
      "['rojo', 'amarillo', 'negro', 'morado', 'blanco', 'rosa', 'marron', 'rosa', 'marron', 'rosa', 'marron']\n"
     ]
    }
   ],
   "source": [
    "mi_lista.remove(\"azul\")\n",
    "print(mi_lista)"
   ]
  },
  {
   "cell_type": "code",
   "execution_count": 17,
   "metadata": {},
   "outputs": [
    {
     "name": "stdout",
     "output_type": "stream",
     "text": [
      "[22, 23, 24, 25, 22, 23, 24, 25, 22, 23, 24, 25, 22, 23, 24, 25]\n"
     ]
    }
   ],
   "source": [
    "lista= [22,23,24,25] \n",
    "print (lista*4)"
   ]
  },
  {
   "cell_type": "code",
   "execution_count": 18,
   "metadata": {},
   "outputs": [
    {
     "name": "stdout",
     "output_type": "stream",
     "text": [
      "[22, 23, 24, 25]\n"
     ]
    }
   ],
   "source": [
    "print(lista)"
   ]
  },
  {
   "cell_type": "code",
   "execution_count": 19,
   "metadata": {},
   "outputs": [
    {
     "name": "stdout",
     "output_type": "stream",
     "text": [
      "[22, 23, 24, 25, 22, 23, 24, 25, 22, 23, 24, 25, 22, 23, 24, 25]\n"
     ]
    }
   ],
   "source": [
    "lista_multiplicada=lista*4\n",
    "print(lista_multiplicada)"
   ]
  },
  {
   "cell_type": "code",
   "execution_count": 25,
   "metadata": {},
   "outputs": [
    {
     "name": "stdout",
     "output_type": "stream",
     "text": [
      "[2, 3, 5, 6, 8, 9]\n"
     ]
    }
   ],
   "source": [
    "lista=[8,2,6,5,3,9]\n",
    "lista.sort()\n",
    "print(lista)"
   ]
  },
  {
   "cell_type": "code",
   "execution_count": 26,
   "metadata": {},
   "outputs": [
    {
     "name": "stdout",
     "output_type": "stream",
     "text": [
      "['amarillo', 'azul', 'morado', 'rojo']\n"
     ]
    }
   ],
   "source": [
    "mi_lista=[\"rojo\", \"amarillo\", \"azul\",\"morado\"]\n",
    "mi_lista.sort()\n",
    "print(mi_lista)"
   ]
  },
  {
   "cell_type": "markdown",
   "metadata": {},
   "source": [
    "TUPLAS"
   ]
  },
  {
   "cell_type": "code",
   "execution_count": 30,
   "metadata": {},
   "outputs": [
    {
     "name": "stdout",
     "output_type": "stream",
     "text": [
      "<class 'tuple'>\n"
     ]
    }
   ],
   "source": [
    "mi_tupla=(2,4,6,8,10)\n",
    "print(type(mi_tupla))"
   ]
  },
  {
   "cell_type": "code",
   "execution_count": 31,
   "metadata": {},
   "outputs": [],
   "source": [
    "tuplas_dias=('lunes','martes','miercoles','jueves', 'viernes', 'sabado','domingo')"
   ]
  },
  {
   "cell_type": "code",
   "execution_count": 32,
   "metadata": {},
   "outputs": [
    {
     "name": "stdout",
     "output_type": "stream",
     "text": [
      "miercoles\n"
     ]
    }
   ],
   "source": [
    "print(tuplas_dias[2])"
   ]
  },
  {
   "cell_type": "code",
   "execution_count": 33,
   "metadata": {},
   "outputs": [
    {
     "data": {
      "text/plain": [
       "True"
      ]
     },
     "execution_count": 33,
     "metadata": {},
     "output_type": "execute_result"
    }
   ],
   "source": [
    "'jueves' in tuplas_dias"
   ]
  },
  {
   "cell_type": "code",
   "execution_count": 34,
   "metadata": {},
   "outputs": [
    {
     "data": {
      "text/plain": [
       "1"
      ]
     },
     "execution_count": 34,
     "metadata": {},
     "output_type": "execute_result"
    }
   ],
   "source": [
    "tuplas_dias.count ('sabado')"
   ]
  },
  {
   "cell_type": "code",
   "execution_count": 36,
   "metadata": {},
   "outputs": [],
   "source": [
    "x=11\n",
    "y=22\n",
    "z='Henry'\n",
    "mi_tupla= x,y,z"
   ]
  },
  {
   "cell_type": "code",
   "execution_count": 39,
   "metadata": {},
   "outputs": [
    {
     "name": "stdout",
     "output_type": "stream",
     "text": [
      "(11, 22, 'Henry')\n"
     ]
    }
   ],
   "source": [
    "print (mi_tupla)"
   ]
  },
  {
   "cell_type": "code",
   "execution_count": 41,
   "metadata": {},
   "outputs": [
    {
     "name": "stdout",
     "output_type": "stream",
     "text": [
      "(9, 'septiembre', 1996)\n"
     ]
    }
   ],
   "source": [
    "date=(9,'septiembre',1996)\n",
    "print(date)\n",
    "\n",
    "\n"
   ]
  },
  {
   "cell_type": "code",
   "execution_count": 42,
   "metadata": {},
   "outputs": [],
   "source": [
    "uno,dos,tres=date "
   ]
  },
  {
   "cell_type": "code",
   "execution_count": 43,
   "metadata": {},
   "outputs": [
    {
     "name": "stdout",
     "output_type": "stream",
     "text": [
      "9\n",
      "septiembre\n"
     ]
    }
   ],
   "source": [
    "print(uno)\n",
    "print (dos)"
   ]
  },
  {
   "cell_type": "markdown",
   "metadata": {},
   "source": [
    "DICCIONARIOS"
   ]
  },
  {
   "cell_type": "code",
   "execution_count": 47,
   "metadata": {},
   "outputs": [],
   "source": [
    "primer_diccionario=dict()"
   ]
  },
  {
   "cell_type": "code",
   "execution_count": 48,
   "metadata": {},
   "outputs": [
    {
     "data": {
      "text/plain": [
       "{}"
      ]
     },
     "execution_count": 48,
     "metadata": {},
     "output_type": "execute_result"
    }
   ],
   "source": [
    "primer_diccionario"
   ]
  },
  {
   "cell_type": "code",
   "execution_count": 50,
   "metadata": {},
   "outputs": [
    {
     "name": "stdout",
     "output_type": "stream",
     "text": [
      "{'primero': 'uno'}\n"
     ]
    }
   ],
   "source": [
    "primer_diccionario['primero']='uno'\n",
    "print(primer_diccionario)"
   ]
  },
  {
   "cell_type": "code",
   "execution_count": 51,
   "metadata": {},
   "outputs": [
    {
     "name": "stdout",
     "output_type": "stream",
     "text": [
      "{'primero': 'uno', 'segundo': 'dos', 'tercero': 'tres'}\n"
     ]
    }
   ],
   "source": [
    "primer_diccionario['segundo']='dos'\n",
    "primer_diccionario['tercero']='tres'\n",
    "print(primer_diccionario)"
   ]
  },
  {
   "cell_type": "code",
   "execution_count": 52,
   "metadata": {},
   "outputs": [],
   "source": [
    "mi_diccionario = {  'Colores Primarios': ['Rojo','Azul','Amarillo'], \n",
    "                    'Colores secundarios': ['Naranja','Violeta','Verde'], \n",
    "                    'Clave3': 10,\n",
    "                    'Clave4': False}"
   ]
  },
  {
   "cell_type": "code",
   "execution_count": 54,
   "metadata": {},
   "outputs": [
    {
     "name": "stdout",
     "output_type": "stream",
     "text": [
      "{'Colores Primarios': ['Rojo', 'Azul', 'Amarillo'], 'Colores secundarios': ['Naranja', 'Violeta', 'Verde'], 'Clave3': 10, 'Clave4': False}\n"
     ]
    }
   ],
   "source": [
    "print(mi_diccionario)"
   ]
  },
  {
   "cell_type": "code",
   "execution_count": 62,
   "metadata": {},
   "outputs": [],
   "source": [
    "del mi_diccionario['Clave3']"
   ]
  },
  {
   "attachments": {},
   "cell_type": "markdown",
   "metadata": {},
   "source": [
    "1) Crear una lista que contenga nombres de ciudades del mundo que contenga más de 5 elementos e imprimir por pantalla"
   ]
  },
  {
   "cell_type": "code",
   "execution_count": 63,
   "metadata": {},
   "outputs": [
    {
     "name": "stdout",
     "output_type": "stream",
     "text": [
      "['Bogota', 'Caracas', 'Buenos Aires', 'Quito', 'Lima', 'Monte Video']\n"
     ]
    }
   ],
   "source": [
    "lista_ciudades=['Bogota', 'Caracas','Buenos Aires', 'Quito','Lima','Monte Video']\n",
    "print(lista_ciudades)"
   ]
  },
  {
   "attachments": {},
   "cell_type": "markdown",
   "metadata": {},
   "source": [
    "2) Imprimir por pantalla el segundo elemento de la lista"
   ]
  },
  {
   "cell_type": "code",
   "execution_count": 66,
   "metadata": {},
   "outputs": [
    {
     "name": "stdout",
     "output_type": "stream",
     "text": [
      "Caracas\n"
     ]
    }
   ],
   "source": [
    "print(lista_ciudades[1])"
   ]
  },
  {
   "attachments": {},
   "cell_type": "markdown",
   "metadata": {},
   "source": [
    "3) Imprimir por pantalla del segundo al cuarto elemento"
   ]
  },
  {
   "cell_type": "code",
   "execution_count": 68,
   "metadata": {},
   "outputs": [
    {
     "name": "stdout",
     "output_type": "stream",
     "text": [
      "['Caracas', 'Buenos Aires', 'Quito']\n"
     ]
    }
   ],
   "source": [
    "print(lista_ciudades[1:4])\n"
   ]
  },
  {
   "attachments": {},
   "cell_type": "markdown",
   "metadata": {},
   "source": [
    "4) Visualizar el tipo de dato de la lista"
   ]
  },
  {
   "cell_type": "code",
   "execution_count": 69,
   "metadata": {},
   "outputs": [
    {
     "name": "stdout",
     "output_type": "stream",
     "text": [
      "<class 'list'>\n"
     ]
    }
   ],
   "source": [
    "print(type(lista_ciudades))"
   ]
  },
  {
   "attachments": {},
   "cell_type": "markdown",
   "metadata": {},
   "source": [
    "5) Visualizar todos los elementos de la lista a partir del tercero de manera genérica, es decir, sin explicitar la posición del último elemento"
   ]
  },
  {
   "cell_type": "code",
   "execution_count": 70,
   "metadata": {},
   "outputs": [
    {
     "name": "stdout",
     "output_type": "stream",
     "text": [
      "['Buenos Aires', 'Quito', 'Lima', 'Monte Video']\n"
     ]
    }
   ],
   "source": [
    "print(lista_ciudades[2:])"
   ]
  },
  {
   "attachments": {},
   "cell_type": "markdown",
   "metadata": {},
   "source": [
    "6) Visualizar los primeros 4 elementos de la lista"
   ]
  },
  {
   "cell_type": "code",
   "execution_count": 71,
   "metadata": {},
   "outputs": [
    {
     "name": "stdout",
     "output_type": "stream",
     "text": [
      "['Bogota', 'Caracas', 'Buenos Aires', 'Quito']\n"
     ]
    }
   ],
   "source": [
    "print(lista_ciudades[:4])"
   ]
  },
  {
   "attachments": {},
   "cell_type": "markdown",
   "metadata": {},
   "source": [
    "7) Agregar una ciudad más a la lista que ya exista y otra que no ¿Arroja algún tipo de error?"
   ]
  },
  {
   "cell_type": "code",
   "execution_count": 72,
   "metadata": {},
   "outputs": [],
   "source": [
    "lista_ciudades.append('Santiado de Chile')\n"
   ]
  },
  {
   "cell_type": "code",
   "execution_count": 73,
   "metadata": {},
   "outputs": [
    {
     "name": "stdout",
     "output_type": "stream",
     "text": [
      "['Bogota', 'Caracas', 'Buenos Aires', 'Quito', 'Lima', 'Monte Video', 'Santiado de Chile']\n"
     ]
    }
   ],
   "source": [
    "print(lista_ciudades)"
   ]
  },
  {
   "cell_type": "code",
   "execution_count": 74,
   "metadata": {},
   "outputs": [],
   "source": [
    "lista_ciudades.append('Bogota')"
   ]
  },
  {
   "cell_type": "code",
   "execution_count": 75,
   "metadata": {},
   "outputs": [
    {
     "name": "stdout",
     "output_type": "stream",
     "text": [
      "['Bogota', 'Caracas', 'Buenos Aires', 'Quito', 'Lima', 'Monte Video', 'Santiado de Chile', 'Bogota']\n"
     ]
    }
   ],
   "source": [
    "print(lista_ciudades)"
   ]
  },
  {
   "attachments": {},
   "cell_type": "markdown",
   "metadata": {},
   "source": [
    "8) Agregar otra ciudad, pero en la cuarta posición"
   ]
  },
  {
   "cell_type": "code",
   "execution_count": 76,
   "metadata": {},
   "outputs": [],
   "source": [
    "lista_ciudades.insert(4,'Asuncion')"
   ]
  },
  {
   "cell_type": "code",
   "execution_count": 77,
   "metadata": {},
   "outputs": [
    {
     "name": "stdout",
     "output_type": "stream",
     "text": [
      "['Bogota', 'Caracas', 'Buenos Aires', 'Quito', 'Asuncion', 'Lima', 'Monte Video', 'Santiado de Chile', 'Bogota']\n"
     ]
    }
   ],
   "source": [
    "print(lista_ciudades)"
   ]
  },
  {
   "attachments": {},
   "cell_type": "markdown",
   "metadata": {},
   "source": [
    "9) Concatenar otra lista a la ya creada"
   ]
  },
  {
   "cell_type": "code",
   "execution_count": 78,
   "metadata": {},
   "outputs": [
    {
     "name": "stdout",
     "output_type": "stream",
     "text": [
      "['Bogota', 'Caracas', 'Buenos Aires', 'Quito', 'Asuncion', 'Lima', 'Monte Video', 'Santiado de Chile', 'Bogota', 'Santa Cruz de la sierra', 'Managua', 'Ciudad de Guatemala']\n"
     ]
    }
   ],
   "source": [
    "lista_ciudades.extend(['Santa Cruz de la sierra','Managua','Ciudad de Guatemala'])\n",
    "print(lista_ciudades)"
   ]
  },
  {
   "attachments": {},
   "cell_type": "markdown",
   "metadata": {},
   "source": [
    "10) Encontrar el índice de la ciudad que en el punto 7 agregamos duplicada. ¿Se nota alguna particularidad?"
   ]
  },
  {
   "cell_type": "code",
   "execution_count": 79,
   "metadata": {},
   "outputs": [],
   "source": [
    "for i in range (len(lista_ciudades)):\n",
    "    ciudades= lista_ciudades[i]\n",
    "    if lista_ciudades.count(ciudades)> 1:\n",
    "        break"
   ]
  },
  {
   "cell_type": "code",
   "execution_count": 80,
   "metadata": {},
   "outputs": [
    {
     "name": "stdout",
     "output_type": "stream",
     "text": [
      "Bogota\n"
     ]
    }
   ],
   "source": [
    "print(ciudades)"
   ]
  },
  {
   "cell_type": "markdown",
   "metadata": {},
   "source": [
    "Con esta funcion se buscaria la ciudad que se encuentra duplicada y efectivamente es bogota"
   ]
  },
  {
   "attachments": {},
   "cell_type": "markdown",
   "metadata": {},
   "source": [
    "11) ¿Qué pasa si se busca un elemento que no existe?"
   ]
  },
  {
   "cell_type": "code",
   "execution_count": 81,
   "metadata": {},
   "outputs": [
    {
     "name": "stdout",
     "output_type": "stream",
     "text": [
      "El elemento 6 no está en la lista.\n"
     ]
    }
   ],
   "source": [
    "mi_lista = [1, 2, 3, 4, 5]\n",
    "\n",
    "elemento = 6  # Elemento que no está en la lista\n",
    "\n",
    "encontrado = False\n",
    "for indice, valor in enumerate(mi_lista):\n",
    "    if valor == elemento:\n",
    "        print(f\"El elemento {elemento} se encuentra en el índice {indice}.\")\n",
    "        encontrado = True\n",
    "        break\n",
    "\n",
    "if not encontrado:\n",
    "    print(f\"El elemento {elemento} no está en la lista.\")\n"
   ]
  },
  {
   "cell_type": "markdown",
   "metadata": {},
   "source": [
    " si buscas un elemento que no existe en una lista en Python, se generará una excepción ValueError si estás utilizando el método index(), o puedes verificar manualmente si el elemento está en la lista utilizando un bucle for."
   ]
  },
  {
   "attachments": {},
   "cell_type": "markdown",
   "metadata": {},
   "source": [
    "12) Eliminar un elemento de la lista"
   ]
  },
  {
   "cell_type": "code",
   "execution_count": 82,
   "metadata": {},
   "outputs": [
    {
     "name": "stdout",
     "output_type": "stream",
     "text": [
      "['Bogota', 'Caracas', 'Buenos Aires', 'Quito', 'Asuncion', 'Lima', 'Monte Video', 'Santiado de Chile', 'Santa Cruz de la sierra', 'Managua', 'Ciudad de Guatemala']\n"
     ]
    }
   ],
   "source": [
    "del lista_ciudades[8]\n",
    "print(lista_ciudades)"
   ]
  },
  {
   "cell_type": "code",
   "execution_count": 84,
   "metadata": {},
   "outputs": [
    {
     "name": "stdout",
     "output_type": "stream",
     "text": [
      "Bogota\n",
      "Caracas\n",
      "Buenos Aires\n",
      "Quito\n",
      "Asuncion\n",
      "Lima\n",
      "Monte Video\n",
      "Santiado de Chile\n",
      "Santa Cruz de la sierra\n",
      "Managua\n",
      "Ciudad de Guatemala\n"
     ]
    }
   ],
   "source": [
    "for i in range (len(lista_ciudades)):\n",
    "    ciudades= lista_ciudades[i]\n",
    "    if lista_ciudades.count(ciudades)> 1:\n",
    "        break\n",
    "    \n",
    "    print(ciudades)"
   ]
  },
  {
   "attachments": {},
   "cell_type": "markdown",
   "metadata": {},
   "source": [
    "13) ¿Qué pasa si el elemento a eliminar no existe?"
   ]
  },
  {
   "cell_type": "markdown",
   "metadata": {},
   "source": [
    "a declaración del para eliminar un elemento que no existe en la lista (por su índice), no se generará una excepción, pero se producirá un error de índice si el índice está fuera de los límites de la lista."
   ]
  },
  {
   "cell_type": "markdown",
   "metadata": {},
   "source": [
    "el método remove() para eliminar un elemento que no existe en la lista, se generará una excepción llamada ValueError. Esta excepción indicará que el elemento que estás tratando de eliminar no se encuentra en la lista."
   ]
  },
  {
   "attachments": {},
   "cell_type": "markdown",
   "metadata": {},
   "source": [
    "14) Extraer el úlimo elemento de la lista, guardarlo en una variable e imprimirlo"
   ]
  },
  {
   "cell_type": "code",
   "execution_count": 85,
   "metadata": {},
   "outputs": [
    {
     "name": "stdout",
     "output_type": "stream",
     "text": [
      "['Bogota', 'Caracas', 'Buenos Aires', 'Quito', 'Asuncion', 'Lima', 'Monte Video', 'Santiado de Chile', 'Santa Cruz de la sierra', 'Managua']\n"
     ]
    }
   ],
   "source": [
    "lista_ciudades.pop()\n",
    "\n",
    "print(lista_ciudades)"
   ]
  },
  {
   "attachments": {},
   "cell_type": "markdown",
   "metadata": {},
   "source": [
    "15) Mostrar la lista multiplicada por 4"
   ]
  },
  {
   "cell_type": "code",
   "execution_count": 86,
   "metadata": {},
   "outputs": [
    {
     "name": "stdout",
     "output_type": "stream",
     "text": [
      "['Bogota', 'Caracas', 'Buenos Aires', 'Quito', 'Asuncion', 'Lima', 'Monte Video', 'Santiado de Chile', 'Santa Cruz de la sierra', 'Managua', 'Bogota', 'Caracas', 'Buenos Aires', 'Quito', 'Asuncion', 'Lima', 'Monte Video', 'Santiado de Chile', 'Santa Cruz de la sierra', 'Managua', 'Bogota', 'Caracas', 'Buenos Aires', 'Quito', 'Asuncion', 'Lima', 'Monte Video', 'Santiado de Chile', 'Santa Cruz de la sierra', 'Managua', 'Bogota', 'Caracas', 'Buenos Aires', 'Quito', 'Asuncion', 'Lima', 'Monte Video', 'Santiado de Chile', 'Santa Cruz de la sierra', 'Managua']\n"
     ]
    }
   ],
   "source": [
    "print(lista_ciudades*4) "
   ]
  },
  {
   "attachments": {},
   "cell_type": "markdown",
   "metadata": {},
   "source": [
    "16) Crear una tupla que contenga los números enteros del 1 al 20"
   ]
  },
  {
   "cell_type": "code",
   "execution_count": 87,
   "metadata": {},
   "outputs": [
    {
     "name": "stdout",
     "output_type": "stream",
     "text": [
      "(1, 2, 3, 4, 5, 6, 7, 8, 9, 10, 11, 12, 13, 14, 15, 16, 17, 18, 19, 20)\n"
     ]
    }
   ],
   "source": [
    "tupla_numeros= tuple(range(1,21))\n",
    "print(tupla_numeros)"
   ]
  },
  {
   "attachments": {},
   "cell_type": "markdown",
   "metadata": {},
   "source": [
    "17) Imprimir desde el índice 10 al 15 de la tupla"
   ]
  },
  {
   "cell_type": "code",
   "execution_count": 88,
   "metadata": {},
   "outputs": [
    {
     "name": "stdout",
     "output_type": "stream",
     "text": [
      "11\n",
      "12\n",
      "13\n",
      "14\n",
      "15\n",
      "16\n"
     ]
    }
   ],
   "source": [
    "for i in range(10,16):\n",
    "    print(tupla_numeros[i])"
   ]
  },
  {
   "attachments": {},
   "cell_type": "markdown",
   "metadata": {},
   "source": [
    "18) Evaluar si los números 20 y 30 están dentro de la tupla"
   ]
  },
  {
   "cell_type": "code",
   "execution_count": 90,
   "metadata": {},
   "outputs": [
    {
     "name": "stdout",
     "output_type": "stream",
     "text": [
      "20 está en la tupla.\n",
      "30 NO está en la tupla.\n"
     ]
    }
   ],
   "source": [
    "numero_1 =20 \n",
    "numero_2 =30\n",
    "\n",
    "if numero_1 in tupla_numeros:\n",
    "    print(f\"{numero_1} está en la tupla.\")\n",
    "else:\n",
    "    print(f\"{numero_1} NO está en la tupla.\")\n",
    "\n",
    "if numero_2 in tupla_numeros:\n",
    "    \n",
    "    print(f\"{numero_2} está en la tupla.\")\n",
    "else:\n",
    "    print(f\"{numero_2} NO está en la tupla.\")"
   ]
  },
  {
   "attachments": {},
   "cell_type": "markdown",
   "metadata": {},
   "source": [
    "19) Con la lista creada en el punto 1, validar la existencia del elemento 'París' y si no existe, agregarlo. Utilizar una variable e informar lo sucedido."
   ]
  },
  {
   "cell_type": "code",
   "execution_count": 91,
   "metadata": {},
   "outputs": [
    {
     "data": {
      "text/plain": [
       "False"
      ]
     },
     "execution_count": 91,
     "metadata": {},
     "output_type": "execute_result"
    }
   ],
   "source": [
    "'Paris' in tupla_numeros"
   ]
  },
  {
   "cell_type": "code",
   "execution_count": 92,
   "metadata": {},
   "outputs": [
    {
     "name": "stdout",
     "output_type": "stream",
     "text": [
      "'Paris' no existía en la lista y fue agregado.\n",
      "Lista de ciudades actual: ['Bogota', 'Caracas', 'Buenos Aires', 'Quito', 'Asuncion', 'Lima', 'Monte Video', 'Santiado de Chile', 'Santa Cruz de la sierra', 'Managua', 'Paris']\n"
     ]
    }
   ],
   "source": [
    "elemento = 'Paris'\n",
    "\n",
    "informe = \"\"\n",
    "\n",
    "if elemento in lista_ciudades:\n",
    "    informe = f\"'{elemento}' ya existe en la lista.\"\n",
    "else:\n",
    "    lista_ciudades.append(elemento)\n",
    "    informe = f\"'{elemento}' no existía en la lista y fue agregado.\"\n",
    "\n",
    "# Imprimir el informe\n",
    "print(informe)\n",
    "\n",
    "# Imprimir la lista actual\n",
    "print(\"Lista de ciudades actual:\", lista_ciudades)\n",
    " "
   ]
  },
  {
   "attachments": {},
   "cell_type": "markdown",
   "metadata": {},
   "source": [
    "20) Mostrar la cantidad de veces que se encuentra un elemento específico dentro de la tupla y de la lista"
   ]
  },
  {
   "cell_type": "code",
   "execution_count": 97,
   "metadata": {},
   "outputs": [],
   "source": [
    "tupla_numerosciudades= (1,2,3,4,5,6,7,8,9,10)\n",
    "\n",
    "elemento_especifico = 3\n"
   ]
  },
  {
   "cell_type": "code",
   "execution_count": 99,
   "metadata": {},
   "outputs": [
    {
     "name": "stdout",
     "output_type": "stream",
     "text": [
      "El elemento 3 aparece 1 veces en la tupla.\n",
      "El elemento 3 aparece 0 veces en la lista.\n"
     ]
    }
   ],
   "source": [
    "\n",
    "\n",
    "cantidad_en_tupla = tupla_numerosciudades.count(elemento_especifico)\n",
    "\n",
    "# Contar la cantidad de veces que aparece el elemento en la lista\n",
    "cantidad_en_lista = lista_ciudades.count(elemento_especifico)\n",
    "\n",
    "# Imprimir los resultados\n",
    "print(f\"El elemento {elemento_especifico} aparece {cantidad_en_tupla} veces en la tupla.\")\n",
    "print(f\"El elemento {elemento_especifico} aparece {cantidad_en_lista} veces en la lista.\")\n",
    "\n",
    "\n"
   ]
  },
  {
   "attachments": {},
   "cell_type": "markdown",
   "metadata": {},
   "source": [
    "21) Convertir la tupla en una lista"
   ]
  },
  {
   "cell_type": "code",
   "execution_count": 100,
   "metadata": {},
   "outputs": [
    {
     "name": "stdout",
     "output_type": "stream",
     "text": [
      "Lista resultante: [1, 2, 3, 4, 5]\n"
     ]
    }
   ],
   "source": [
    "\n",
    "tupla_numeros = (1, 2, 3, 4, 5)\n",
    "\n",
    "\n",
    "lista_numeros = list(tupla_numeros)\n",
    "\n",
    "\n",
    "print(\"Lista resultante:\", lista_numeros)\n"
   ]
  },
  {
   "attachments": {},
   "cell_type": "markdown",
   "metadata": {},
   "source": [
    "22) Desempaquetar solo los primeros 3 elementos de la tupla en 3 variables"
   ]
  },
  {
   "cell_type": "code",
   "execution_count": 101,
   "metadata": {},
   "outputs": [
    {
     "name": "stdout",
     "output_type": "stream",
     "text": [
      "Variable 1: 1\n",
      "Variable 2: 2\n",
      "Variable 3: 3\n"
     ]
    }
   ],
   "source": [
    "\n",
    "var1, var2, var3, *resto = tupla_numeros\n",
    "\n",
    "# Imprimir las variables desempaquetadas\n",
    "print(\"Variable 1:\", var1)\n",
    "print(\"Variable 2:\", var2)\n",
    "print(\"Variable 3:\", var3)\n"
   ]
  },
  {
   "attachments": {},
   "cell_type": "markdown",
   "metadata": {},
   "source": [
    "23) Crear un diccionario utilizando la lista crada en el punto 1, asignandole la clave \"ciudad\". Agregar tambien otras claves, como puede ser \"Pais\" y \"Continente\"."
   ]
  },
  {
   "cell_type": "code",
   "execution_count": 108,
   "metadata": {},
   "outputs": [],
   "source": [
    "mi_dicionar = { \"Bogota\": 'Colombia', 'Caracas': 'Venezuela', 'Buenos Aires': 'Argentina', 'Quito' : 'Ecuador', 'Lima': 'Peru' }"
   ]
  },
  {
   "attachments": {},
   "cell_type": "markdown",
   "metadata": {},
   "source": [
    "24) Imprimir las claves del diccionario"
   ]
  },
  {
   "cell_type": "code",
   "execution_count": 110,
   "metadata": {},
   "outputs": [
    {
     "name": "stdout",
     "output_type": "stream",
     "text": [
      "Claves del diccionario ['Bogota', 'Caracas', 'Buenos Aires', 'Quito', 'Lima']\n"
     ]
    }
   ],
   "source": [
    "claves = list(mi_dicionar.keys())\n",
    "print('Claves del diccionario', claves)"
   ]
  },
  {
   "attachments": {},
   "cell_type": "markdown",
   "metadata": {},
   "source": [
    "25) Imprimir las ciudades a través de su clave"
   ]
  },
  {
   "cell_type": "code",
   "execution_count": 113,
   "metadata": {},
   "outputs": [
    {
     "name": "stdout",
     "output_type": "stream",
     "text": [
      "Ciudades ['Bogota', 'Caracas', 'Buenos Aires', 'Quito', 'Lima']\n"
     ]
    }
   ],
   "source": [
    "ciudades = list(mi_dicionar)\n",
    "print('Ciudades', ciudades)"
   ]
  },
  {
   "cell_type": "code",
   "execution_count": 115,
   "metadata": {},
   "outputs": [
    {
     "name": "stdout",
     "output_type": "stream",
     "text": [
      "Ciudades ['Colombia', 'Venezuela', 'Argentina', 'Ecuador', 'Peru']\n"
     ]
    }
   ],
   "source": [
    "Paises = list(mi_dicionar.values())\n",
    "print('Ciudades', Paises)"
   ]
  }
 ],
 "metadata": {
  "interpreter": {
   "hash": "c85384e4cb51c8b72350f3a8712cc8351fdc3955e32a27f9b60c6242ab125f01"
  },
  "kernelspec": {
   "display_name": "Python 3 (ipykernel)",
   "language": "python",
   "name": "python3"
  },
  "language_info": {
   "codemirror_mode": {
    "name": "ipython",
    "version": 3
   },
   "file_extension": ".py",
   "mimetype": "text/x-python",
   "name": "python",
   "nbconvert_exporter": "python",
   "pygments_lexer": "ipython3",
   "version": "3.11.4"
  }
 },
 "nbformat": 4,
 "nbformat_minor": 4
}
