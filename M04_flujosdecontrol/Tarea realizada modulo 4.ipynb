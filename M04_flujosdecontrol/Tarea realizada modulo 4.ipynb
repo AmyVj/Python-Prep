{
 "cells": [
  {
   "attachments": {},
   "cell_type": "markdown",
   "metadata": {},
   "source": [
    "\n",
    "\n",
    "## Flujos de Control"
   ]
  },
  {
   "attachments": {},
   "cell_type": "markdown",
   "metadata": {},
   "source": [
    "1) Crear una variable que contenga un elemento del conjunto de números enteros y luego imprimir por pantalla si es mayor o menor a cero"
   ]
  },
  {
   "cell_type": "code",
   "execution_count": 1,
   "metadata": {},
   "outputs": [
    {
     "name": "stdout",
     "output_type": "stream",
     "text": [
      "Soy mayor\n"
     ]
    }
   ],
   "source": [
    "a=10\n",
    "if a > 0:\n",
    "    print('Soy mayor')\n",
    "    \n",
    "elif a < 0:\n",
    "    print('Soy menor')\n",
    "    "
   ]
  },
  {
   "attachments": {},
   "cell_type": "markdown",
   "metadata": {},
   "source": [
    "2) Crear dos variables y un condicional que informe si son del mismo tipo de dato"
   ]
  },
  {
   "cell_type": "code",
   "execution_count": 3,
   "metadata": {},
   "outputs": [
    {
     "name": "stdout",
     "output_type": "stream",
     "text": [
      "Soy igual\n"
     ]
    }
   ],
   "source": [
    "a=4 \n",
    "b= \"Hola\"\n",
    "\n",
    "if (type(a)==(type(b))):\n",
    "    print('Soy igual')\n",
    "elif (type(a)== (type(b))):\n",
    "    print('Soy diferente')\n",
    "else:\n",
    "    print('Soy igual')"
   ]
  },
  {
   "attachments": {},
   "cell_type": "markdown",
   "metadata": {},
   "source": [
    "3) Para los valores enteros del 1 al 20, imprimir por pantalla si es par o impar"
   ]
  },
  {
   "cell_type": "markdown",
   "metadata": {},
   "source": [
    "comprensión de lista para generar una lista de cadenas que describan si los números del 1 al 20 son pares o impares"
   ]
  },
  {
   "cell_type": "code",
   "execution_count": 4,
   "metadata": {},
   "outputs": [
    {
     "name": "stdout",
     "output_type": "stream",
     "text": [
      "1 es impar\n",
      "2 es par\n",
      "3 es impar\n",
      "4 es par\n",
      "5 es impar\n",
      "6 es par\n",
      "7 es impar\n",
      "8 es par\n",
      "9 es impar\n",
      "10 es par\n",
      "11 es impar\n",
      "12 es par\n",
      "13 es impar\n",
      "14 es par\n",
      "15 es impar\n",
      "16 es par\n",
      "17 es impar\n",
      "18 es par\n",
      "19 es impar\n",
      "20 es par\n"
     ]
    }
   ],
   "source": [
    "resultado = [\"par\" if i % 2 == 0 else \"impar\" for i in range(1, 21)]\n",
    "for i, valor in enumerate(resultado, 1):\n",
    "    print(f\"{i} es {valor}\")\n"
   ]
  },
  {
   "cell_type": "code",
   "execution_count": 1,
   "metadata": {},
   "outputs": [
    {
     "name": "stdout",
     "output_type": "stream",
     "text": [
      "manzana\n",
      "banana\n",
      "naranja\n",
      "1\n",
      "2\n",
      "3\n",
      "4\n",
      "5\n",
      "H\n",
      "o\n",
      "l\n",
      "a\n"
     ]
    }
   ],
   "source": [
    "# Ejemplo 1: Iterar sobre una lista\n",
    "frutas = [\"manzana\", \"banana\", \"naranja\"]\n",
    "for fruta in frutas:\n",
    "    print(fruta)\n",
    "\n",
    "# Ejemplo 2: Iterar sobre un rango numérico\n",
    "for numero in range(1, 6):\n",
    "    print(numero)\n",
    "\n",
    "# Ejemplo 3: Iterar sobre una cadena\n",
    "mensaje = \"Hola\"\n",
    "for letra in mensaje:\n",
    "    print(letra)\n"
   ]
  },
  {
   "cell_type": "markdown",
   "metadata": {},
   "source": [
    "\n",
    "Utilizando un bucle for que itere a través de los valores enteros del 1 al 20 y luego verificar si cada número es par o impar. Para determinar si un número es par o impar, puedes usar el operador %, que calcula el residuo de la división entre dos números. Si el residuo es igual a 0, el número es par; de lo contrario, es impar."
   ]
  },
  {
   "cell_type": "code",
   "execution_count": 5,
   "metadata": {},
   "outputs": [
    {
     "name": "stdout",
     "output_type": "stream",
     "text": [
      "1 es impar\n",
      "2 es par\n",
      "3 es impar\n",
      "4 es par\n",
      "5 es impar\n",
      "6 es par\n",
      "7 es impar\n",
      "8 es par\n",
      "9 es impar\n",
      "10 es par\n",
      "11 es impar\n",
      "12 es par\n",
      "13 es impar\n",
      "14 es par\n",
      "15 es impar\n",
      "16 es par\n",
      "17 es impar\n",
      "18 es par\n",
      "19 es impar\n",
      "20 es par\n"
     ]
    }
   ],
   "source": [
    "for i in range(1, 21):\n",
    "    if i % 2 == 0:\n",
    "        print(f\"{i} es par\")\n",
    "    else:\n",
    "        print(f\"{i} es impar\")\n"
   ]
  },
  {
   "attachments": {},
   "cell_type": "markdown",
   "metadata": {},
   "source": [
    "4) En un ciclo for mostrar para los valores entre 0 y 5 el resultado de elevarlo a la potencia igual a 3"
   ]
  },
  {
   "cell_type": "code",
   "execution_count": 6,
   "metadata": {},
   "outputs": [
    {
     "name": "stdout",
     "output_type": "stream",
     "text": [
      "0 elevado a la potencia 3 es igual a 0\n",
      "1 elevado a la potencia 3 es igual a 1\n",
      "2 elevado a la potencia 3 es igual a 8\n",
      "3 elevado a la potencia 3 es igual a 27\n",
      "4 elevado a la potencia 3 es igual a 64\n",
      "5 elevado a la potencia 3 es igual a 125\n"
     ]
    }
   ],
   "source": [
    "for i in range(6):\n",
    "    resultado = i ** 3\n",
    "    print(f\"{i} elevado a la potencia 3 es igual a {resultado}\")\n"
   ]
  },
  {
   "attachments": {},
   "cell_type": "markdown",
   "metadata": {},
   "source": [
    "5) Crear una variable que contenga un número entero y realizar un ciclo for la misma cantidad de ciclos"
   ]
  },
  {
   "cell_type": "code",
   "execution_count": 7,
   "metadata": {},
   "outputs": [
    {
     "name": "stdout",
     "output_type": "stream",
     "text": [
      "Este mensaje se mostrará 5 veces\n",
      "Este mensaje se mostrará 5 veces\n",
      "Este mensaje se mostrará 5 veces\n",
      "Este mensaje se mostrará 5 veces\n",
      "Este mensaje se mostrará 5 veces\n"
     ]
    }
   ],
   "source": [
    "# Crear una variable con un número entero\n",
    "numero_entero = 5  # Puedes cambiar este valor por el que desees\n",
    "\n",
    "# Utilizar un ciclo for para repetir una acción la misma cantidad de veces que el número entero\n",
    "for _ in range(numero_entero):\n",
    "    print(\"Este mensaje se mostrará\", numero_entero, \"veces\")\n"
   ]
  },
  {
   "attachments": {},
   "cell_type": "markdown",
   "metadata": {},
   "source": [
    "6) Utilizar un ciclo while para realizar el factorial de un número guardado en una variable, sólo si la variable contiene un número entero mayor a 0"
   ]
  },
  {
   "cell_type": "code",
   "execution_count": 8,
   "metadata": {},
   "outputs": [
    {
     "name": "stdout",
     "output_type": "stream",
     "text": [
      "El factorial de 5 es 120\n"
     ]
    }
   ],
   "source": [
    "# Obtener el número de la variable\n",
    "numero = 5  # Puedes cambiar este valor por el número que desees\n",
    "\n",
    "# Verificar si el número es un entero mayor que 0\n",
    "if isinstance(numero, int) and numero > 0:\n",
    "    factorial = 1  # Inicializamos el valor del factorial en 1\n",
    "    contador = 1   # Inicializamos un contador en 1\n",
    "\n",
    "    while contador <= numero:\n",
    "        factorial *= contador  # Multiplicamos el factorial por el contador\n",
    "        contador += 1         # Incrementamos el contador en 1\n",
    "\n",
    "    print(f\"El factorial de {numero} es {factorial}\")\n",
    "else:\n",
    "    print(\"El número debe ser un entero mayor que 0\")\n"
   ]
  },
  {
   "attachments": {},
   "cell_type": "markdown",
   "metadata": {},
   "source": [
    "7) Crear un ciclo for dentro de un ciclo while"
   ]
  },
  {
   "cell_type": "code",
   "execution_count": 9,
   "metadata": {},
   "outputs": [
    {
     "name": "stdout",
     "output_type": "stream",
     "text": [
      "Iteración 0 del ciclo while:\n",
      "    Iteración 1 del ciclo for\n",
      "    Iteración 2 del ciclo for\n",
      "    Iteración 3 del ciclo for\n",
      "    Iteración 4 del ciclo for\n",
      "    Iteración 5 del ciclo for\n",
      "Iteración 1 del ciclo while:\n",
      "    Iteración 1 del ciclo for\n",
      "    Iteración 2 del ciclo for\n",
      "    Iteración 3 del ciclo for\n",
      "    Iteración 4 del ciclo for\n",
      "    Iteración 5 del ciclo for\n",
      "Iteración 2 del ciclo while:\n",
      "    Iteración 1 del ciclo for\n",
      "    Iteración 2 del ciclo for\n",
      "    Iteración 3 del ciclo for\n",
      "    Iteración 4 del ciclo for\n",
      "    Iteración 5 del ciclo for\n",
      "¡Fin del programa!\n"
     ]
    }
   ],
   "source": [
    "# Usamos un ciclo while para repetir un ciclo for 3 veces\n",
    "contador = 0  # Inicializamos un contador en 0\n",
    "\n",
    "while contador < 3:  # El ciclo while se ejecutará mientras el contador sea menor que 3\n",
    "    print(f\"Iteración {contador} del ciclo while:\")\n",
    "\n",
    "    # Ciclo for que recorre una secuencia de números del 1 al 5\n",
    "    for i in range(1, 6):\n",
    "        print(f\"    Iteración {i} del ciclo for\")\n",
    "\n",
    "    contador += 1  # Incrementamos el contador del ciclo while en 1\n",
    "\n",
    "print(\"¡Fin del programa!\")\n"
   ]
  },
  {
   "attachments": {},
   "cell_type": "markdown",
   "metadata": {},
   "source": [
    "8) Crear un ciclo while dentro de un ciclo for"
   ]
  },
  {
   "cell_type": "code",
   "execution_count": 10,
   "metadata": {},
   "outputs": [
    {
     "name": "stdout",
     "output_type": "stream",
     "text": [
      "Iteración 1 del ciclo for:\n",
      "    Subiteración 1 del ciclo while\n",
      "Iteración 2 del ciclo for:\n",
      "    Subiteración 1 del ciclo while\n",
      "    Subiteración 2 del ciclo while\n",
      "Iteración 3 del ciclo for:\n",
      "    Subiteración 1 del ciclo while\n",
      "    Subiteración 2 del ciclo while\n",
      "    Subiteración 3 del ciclo while\n",
      "Iteración 4 del ciclo for:\n",
      "    Subiteración 1 del ciclo while\n",
      "    Subiteración 2 del ciclo while\n",
      "    Subiteración 3 del ciclo while\n",
      "    Subiteración 4 del ciclo while\n",
      "Iteración 5 del ciclo for:\n",
      "    Subiteración 1 del ciclo while\n",
      "    Subiteración 2 del ciclo while\n",
      "    Subiteración 3 del ciclo while\n",
      "    Subiteración 4 del ciclo while\n",
      "    Subiteración 5 del ciclo while\n",
      "¡Fin del programa!\n"
     ]
    }
   ],
   "source": [
    "# Usamos un ciclo for para recorrer una secuencia de números del 1 al 5\n",
    "for i in range(1, 6):\n",
    "    print(f\"Iteración {i} del ciclo for:\")\n",
    "    \n",
    "    contador = 1  # Inicializamos un contador en 1\n",
    "\n",
    "    while contador <= i:  # El ciclo while se ejecutará mientras el contador sea menor o igual a i\n",
    "        print(f\"    Subiteración {contador} del ciclo while\")\n",
    "        contador += 1  # Incrementamos el contador del ciclo while en 1\n",
    "\n",
    "print(\"¡Fin del programa!\")\n"
   ]
  },
  {
   "attachments": {},
   "cell_type": "markdown",
   "metadata": {},
   "source": [
    "9) Imprimir los números primos existentes entre 0 y 30"
   ]
  },
  {
   "cell_type": "code",
   "execution_count": 11,
   "metadata": {},
   "outputs": [
    {
     "name": "stdout",
     "output_type": "stream",
     "text": [
      "2\n",
      "3\n",
      "5\n",
      "7\n",
      "11\n",
      "13\n",
      "17\n",
      "19\n",
      "23\n",
      "29\n"
     ]
    }
   ],
   "source": [
    "# Función para verificar si un número es primo\n",
    "def es_primo(num):\n",
    "    if num <= 1:\n",
    "        return False  # Los números menores o iguales a 1 no son primos\n",
    "    for i in range(2, int(num**0.5) + 1):\n",
    "        if num % i == 0:\n",
    "            return False  # Si es divisible por otro número, no es primo\n",
    "    return True\n",
    "\n",
    "# Iteramos desde 0 hasta 30 y comprobamos si cada número es primo\n",
    "for numero in range(31):\n",
    "    if es_primo(numero):\n",
    "        print(numero)\n"
   ]
  },
  {
   "cell_type": "code",
   "execution_count": 12,
   "metadata": {},
   "outputs": [
    {
     "name": "stdout",
     "output_type": "stream",
     "text": [
      "2\n",
      "3\n",
      "5\n",
      "7\n",
      "11\n",
      "13\n",
      "17\n",
      "19\n",
      "23\n",
      "29\n"
     ]
    }
   ],
   "source": [
    "def es_primo(num) :\n",
    "    if num <=1:\n",
    "        return False\n",
    "    for i in range (2, int(num**0.5)+1):\n",
    "        if num % i ==0:\n",
    "            return False\n",
    "    return True\n",
    "for numero in range (31):\n",
    "    if es_primo(numero):\n",
    "        print(numero)\n",
    "\n",
    "        "
   ]
  },
  {
   "attachments": {},
   "cell_type": "markdown",
   "metadata": {},
   "source": [
    "10) ¿Se puede mejorar el proceso del punto 9? Utilizar las sentencias break y/ó continue para tal fin"
   ]
  },
  {
   "cell_type": "code",
   "execution_count": 18,
   "metadata": {},
   "outputs": [
    {
     "name": "stdout",
     "output_type": "stream",
     "text": [
      "2\n",
      "3\n",
      "5\n",
      "7\n",
      "11\n",
      "13\n",
      "17\n",
      "19\n",
      "23\n",
      "29\n"
     ]
    }
   ],
   "source": [
    "for numero in range(2, 31):  # Empezamos desde 2 ya que 0 y 1 no son primos\n",
    "    es_primo = True  # Suponemos que el número es primo por defecto\n",
    "\n",
    "    for divisor in range(2, int(numero**0.5) + 1):\n",
    "        if numero % divisor == 0:\n",
    "            es_primo = False\n",
    "            break  # Salimos del bucle interno si encontramos un divisor\n",
    "\n",
    "    if es_primo:\n",
    "        print(numero)\n",
    "\n",
    "\n",
    "    "
   ]
  },
  {
   "cell_type": "code",
   "execution_count": 12,
   "metadata": {},
   "outputs": [
    {
     "name": "stdout",
     "output_type": "stream",
     "text": [
      "2\n",
      "3\n",
      "5\n",
      "7\n",
      "11\n",
      "13\n",
      "17\n",
      "19\n",
      "23\n",
      "29\n"
     ]
    }
   ],
   "source": [
    "# Función para verificar si un número es primo\n",
    "def es_primo(num):\n",
    "    if num <= 1:\n",
    "        return False  # Los números menores o iguales a 1 no son primos\n",
    "    for i in range(2, num):\n",
    "        if num % i == 0:\n",
    "            return False  # Si es divisible por otro número, no es primo\n",
    "    return True\n",
    "\n",
    "# Iteramos desde 0 hasta 30 y comprobamos si cada número es primo\n",
    "for numero in range(31):\n",
    "    if es_primo(numero):\n",
    "        print(numero)\n"
   ]
  },
  {
   "cell_type": "code",
   "execution_count": 3,
   "metadata": {},
   "outputs": [],
   "source": [
    "def es_primo(numero):\n",
    "    if numero <= 1:\n",
    "        return False  # Los números menores o iguales a 1 no son primos\n",
    "    for i in range(2, int(numero**0.5) + 1):\n",
    "        if numero % i == 0:\n",
    "            return False  # Si es divisible por otro número, no es primo\n",
    "    return True\n"
   ]
  },
  {
   "cell_type": "code",
   "execution_count": 11,
   "metadata": {},
   "outputs": [
    {
     "name": "stdout",
     "output_type": "stream",
     "text": [
      "17 es un número primo.\n"
     ]
    }
   ],
   "source": [
    "numero = 17 # Reemplaza 17 con el número que deseas verificar\n",
    "\n",
    "if es_primo(numero):\n",
    "    print(f\"{numero} es un número primo.\")\n",
    "else:\n",
    "    print(f\"{numero} no es un número primo.\")\n"
   ]
  },
  {
   "attachments": {},
   "cell_type": "markdown",
   "metadata": {},
   "source": [
    "11) En los puntos 9 y 10, se diseño un código que encuentra números primos y además se lo optimizó. ¿Es posible saber en qué medida se optimizó?"
   ]
  },
  {
   "cell_type": "code",
   "execution_count": 13,
   "metadata": {},
   "outputs": [
    {
     "name": "stdout",
     "output_type": "stream",
     "text": [
      "Tiempo de ejecución (punto 9): 0.0\n",
      "Tiempo de ejecución (punto 10): 0.0\n"
     ]
    }
   ],
   "source": [
    "import time\n",
    "\n",
    "# Método del punto 9\n",
    "start_time = time.time()\n",
    "for numero in range(31):\n",
    "    es_primo(numero)\n",
    "end_time = time.time()\n",
    "print(\"Tiempo de ejecución (punto 9):\", end_time - start_time)\n",
    "\n",
    "# Método del punto 10\n",
    "start_time = time.time()\n",
    "for numero in range(31):\n",
    "    es_primo(numero)\n",
    "end_time = time.time()\n",
    "print(\"Tiempo de ejecución (punto 10):\", end_time - start_time)\n"
   ]
  },
  {
   "attachments": {},
   "cell_type": "markdown",
   "metadata": {},
   "source": [
    "12) Aplicando continue, armar un ciclo while que solo imprima los valores divisibles por 12, dentro del rango de números de 100 a 300"
   ]
  },
  {
   "cell_type": "code",
   "execution_count": 19,
   "metadata": {},
   "outputs": [
    {
     "name": "stdout",
     "output_type": "stream",
     "text": [
      "El primer número divisible por 3 y múltiplo de 6 en el rango es: 102\n"
     ]
    }
   ],
   "source": [
    "numero = 100  # Inicializamos la variable con el valor inicial\n",
    "\n",
    "while numero <= 300:  # Mientras número esté dentro del rango\n",
    "    if numero % 3 == 0 and numero % 6 == 0:  # Comprobamos divisibilidad y múltiplo de 6\n",
    "        print(f\"El primer número divisible por 3 y múltiplo de 6 en el rango es: {numero}\")\n",
    "        break  # Salimos del ciclo while cuando encontramos el número deseado\n",
    "    numero += 1  # Incrementamos el número para la siguiente iteración\n"
   ]
  },
  {
   "cell_type": "code",
   "execution_count": 20,
   "metadata": {},
   "outputs": [
    {
     "name": "stdout",
     "output_type": "stream",
     "text": [
      "108\n",
      "120\n",
      "132\n",
      "144\n",
      "156\n",
      "168\n",
      "180\n",
      "192\n",
      "204\n",
      "216\n",
      "228\n",
      "240\n",
      "252\n",
      "264\n",
      "276\n",
      "288\n",
      "300\n"
     ]
    }
   ],
   "source": [
    "numero = 100\n",
    "\n",
    "while numero <= 300:\n",
    "    if numero % 12 != 0:\n",
    "        numero += 1\n",
    "        continue\n",
    "    print(numero)\n",
    "    numero += 1\n",
    "\n"
   ]
  },
  {
   "attachments": {},
   "cell_type": "markdown",
   "metadata": {},
   "source": [
    "13) Utilizar la función **input()** que permite hacer ingresos por teclado, para encontrar números primos y dar la opción al usario de buscar el siguiente"
   ]
  },
  {
   "cell_type": "code",
   "execution_count": null,
   "metadata": {},
   "outputs": [],
   "source": [
    "# Función para verificar si un número es primo\n",
    "def es_primo(numero):\n",
    "    if numero <= 1:\n",
    "        return False\n",
    "    for i in range(2, int(numero**0.5) + 1):\n",
    "        if numero % i == 0:\n",
    "            return False\n",
    "    return True\n",
    "\n",
    "def buscar_siguiente_primo(numero):\n",
    "    siguiente = numero + 1\n",
    "    while True:\n",
    "        if es_primo(siguiente):\n",
    "            return siguiente\n",
    "        siguiente += 1\n",
    "\n",
    "while True:\n",
    "    entrada = input(\"Ingrese un número (o 'q' para salir): \")\n",
    "\n",
    "    if entrada == 'q':\n",
    "        break\n",
    "\n",
    "    try:\n",
    "        numero = int(entrada)\n",
    "        if numero < 2:\n",
    "            print(\"Ingrese un número entero mayor o igual a 2.\")\n",
    "        elif es_primo(numero):\n",
    "            print(f\"{numero} es un número primo.\")\n",
    "            siguiente_primo = buscar_siguiente_primo(numero)\n",
    "            print(f\"El siguiente número primo es {siguiente_primo}\")\n",
    "        else:\n",
    "            print(f\"{numero} no es un número primo.\")\n",
    "    except ValueError:\n",
    "        print(\"Entrada no válida. Ingrese un número entero mayor o igual a 2 o 'q' para salir.\")\n"
   ]
  },
  {
   "attachments": {},
   "cell_type": "markdown",
   "metadata": {},
   "source": [
    "14) Crear un ciclo while que encuentre dentro del rango de 100 a 300 el primer número divisible por 3 y además múltiplo de 6"
   ]
  },
  {
   "cell_type": "code",
   "execution_count": 18,
   "metadata": {},
   "outputs": [
    {
     "name": "stdout",
     "output_type": "stream",
     "text": [
      "El primer número divisible por 3 y múltiplo de 6 en el rango es: 102\n"
     ]
    }
   ],
   "source": [
    "numero = 100\n",
    "\n",
    "while numero <= 300:\n",
    "    if numero % 3 == 0 and numero % 6 == 0:\n",
    "        print(f\"El primer número divisible por 3 y múltiplo de 6 en el rango es: {numero}\")\n",
    "        break  # Salir del ciclo una vez que se encuentra el número\n",
    "    numero += 1\n"
   ]
  }
 ],
 "metadata": {
  "interpreter": {
   "hash": "c85384e4cb51c8b72350f3a8712cc8351fdc3955e32a27f9b60c6242ab125f01"
  },
  "kernelspec": {
   "display_name": "Python 3 (ipykernel)",
   "language": "python",
   "name": "python3"
  },
  "language_info": {
   "codemirror_mode": {
    "name": "ipython",
    "version": 3
   },
   "file_extension": ".py",
   "mimetype": "text/x-python",
   "name": "python",
   "nbconvert_exporter": "python",
   "pygments_lexer": "ipython3",
   "version": "3.11.4"
  }
 },
 "nbformat": 4,
 "nbformat_minor": 4
}
